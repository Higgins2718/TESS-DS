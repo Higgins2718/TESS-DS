{
 "cells": [
  {
   "cell_type": "code",
   "execution_count": 1,
   "metadata": {},
   "outputs": [],
   "source": [
    "# Lots of imports, coppied from astroquery documentation\n",
    "import sys\n",
    "import os\n",
    "import time\n",
    "import re\n",
    "import json\n",
    "\n",
    "try: # Python 3.x\n",
    "    from urllib.parse import quote as urlencode\n",
    "    from urllib.request import urlretrieve\n",
    "except ImportError:  # Python 2.x\n",
    "    from urllib import pathname2url as urlencode\n",
    "    from urllib import urlretrieve\n",
    "\n",
    "try: # Python 3.x\n",
    "    import http.client as httplib \n",
    "except ImportError:  # Python 2.x\n",
    "    import httplib   \n",
    "\n",
    "from astropy.table import Table\n",
    "import numpy as np\n",
    "\n",
    "import pprint\n",
    "pp = pprint.PrettyPrinter(indent=4)"
   ]
  },
  {
   "cell_type": "code",
   "execution_count": 2,
   "metadata": {},
   "outputs": [],
   "source": [
    "#Advanced mast query builder. Based on code from astroquery documentation\n",
    "\n",
    "def mastQuery(request):\n",
    "    \"\"\"Perform a MAST query.\n",
    "    \n",
    "        Parameters\n",
    "        ----------\n",
    "        request (dictionary): The MAST request json object\n",
    "        \n",
    "        Returns head,content where head is the response HTTP headers, and content is the returned data\"\"\"\n",
    "    \n",
    "    server='mast.stsci.edu'\n",
    "\n",
    "    # Grab Python Version \n",
    "    version = \".\".join(map(str, sys.version_info[:3]))\n",
    "\n",
    "    # Create Http Header Variables\n",
    "    headers = {\"Content-type\": \"application/x-www-form-urlencoded\",\n",
    "               \"Accept\": \"text/plain\",\n",
    "               \"User-agent\":\"python-requests/\"+version}\n",
    "\n",
    "    # Encoding the request as a json string\n",
    "    requestString = json.dumps(request)\n",
    "    requestString = urlencode(requestString)\n",
    "    \n",
    "    # opening the https connection\n",
    "    conn = httplib.HTTPSConnection(server)\n",
    "\n",
    "    # Making the query\n",
    "    conn.request(\"POST\", \"/api/v0/invoke\", \"request=\"+requestString, headers)\n",
    "\n",
    "    # Getting the response\n",
    "    resp = conn.getresponse()\n",
    "    head = resp.getheaders()\n",
    "    content = resp.read().decode('utf-8')\n",
    "\n",
    "    # Close the https connection\n",
    "    conn.close()\n",
    "\n",
    "    return head,content"
   ]
  },
  {
   "cell_type": "code",
   "execution_count": 5,
   "metadata": {},
   "outputs": [
    {
     "name": "stdout",
     "output_type": "stream",
     "text": [
      "{   'resolvedCoordinate': [   {   'cacheDate': 'Jun 13, 2019 5:52:09 PM',\n",
      "                                  'cached': True,\n",
      "                                  'canonicalName': 'MESSIER 101',\n",
      "                                  'decl': 54.34895,\n",
      "                                  'objectType': 'G',\n",
      "                                  'ra': 210.80227,\n",
      "                                  'radius': 0.24000000000000002,\n",
      "                                  'resolver': 'NED',\n",
      "                                  'resolverTime': 233,\n",
      "                                  'searchRadius': -1.0,\n",
      "                                  'searchString': 'm101'}],\n",
      "    'status': ''}\n",
      "[('Server', 'nginx/1.12.2'), ('Date', 'Wed, 26 Jun 2019 19:30:49 GMT'), ('Content-Type', 'application/json;charset=UTF-8'), ('Transfer-Encoding', 'chunked'), ('Connection', 'keep-alive'), ('Cache-Control', 'private, max-age=0'), ('X-AspNet-Version', '4.0.30319'), ('Set-Cookie', 'MAST_Session=Id=ced8b6f5-66a3-439e-bf3c-ecb63368c3c1; path=/'), ('X-Powered-By', 'ASP.NET'), ('Access-Control-Allow-Origin', '*'), ('Access-Control-Allow-Headers', 'x-requested-with'), ('Set-Cookie', 'STROUTE=1561577448.845; Path=/')]\n"
     ]
    }
   ],
   "source": [
    "# Test 1: Basic name lookup\n",
    "\n",
    "objectOfInterest = 'M101'\n",
    "\n",
    "resolverRequest = {'service':'Mast.Name.Lookup',\n",
    "                     'params':{'input':objectOfInterest,\n",
    "                               'format':'json'},\n",
    "                     }\n",
    "\n",
    "headers,resolvedObjectString = mastQuery(resolverRequest)\n",
    "\n",
    "resolvedObject = json.loads(resolvedObjectString)\n",
    "\n",
    "pp.pprint(resolvedObject)"
   ]
  },
  {
   "cell_type": "code",
   "execution_count": 4,
   "metadata": {},
   "outputs": [],
   "source": [
    "# Get right ascnesion and declination\n",
    "objRa = resolvedObject['resolvedCoordinate'][0]['ra']\n",
    "objDec = resolvedObject['resolvedCoordinate'][0]['decl']"
   ]
  },
  {
   "cell_type": "code",
   "execution_count": 6,
   "metadata": {},
   "outputs": [],
   "source": [
    "mashupRequest = {\"service\":\"Mast.Caom.Filtered\",\n",
    "                 \"format\":\"json\",\n",
    "                 \"params\":{\n",
    "                     \"columns\":\"COUNT_BIG(*)\",\n",
    "                     \"filters\":[\n",
    "                         {\"paramName\":\"filters\",\n",
    "                          \"values\":[\"NUV\",\"FUV\"],\n",
    "                          \"separator\":\";\"\n",
    "                         },\n",
    "                         {\"paramName\":\"t_max\",\n",
    "                          \"values\":[{\"min\":52264.4586,\"max\":54452.8914}], #MJD\n",
    "                         },\n",
    "                         {\"paramName\":\"obsid\",\n",
    "                          \"values\":[],\n",
    "                          \"freeText\":\"%200%\"}\n",
    "                     ]}}\n",
    "    \n",
    "headers,outString = mastQuery(mashupRequest)\n",
    "countData = json.loads(outString)"
   ]
  },
  {
   "cell_type": "code",
   "execution_count": 8,
   "metadata": {},
   "outputs": [
    {
     "data": {
      "text/plain": [
       "{'status': 'COMPLETE',\n",
       " 'msg': '',\n",
       " 'data': [{'Column1': 1068}],\n",
       " 'fields': [{'name': 'Column1', 'type': 'string'}],\n",
       " 'paging': {'page': 1,\n",
       "  'pageSize': 1,\n",
       "  'pagesFiltered': 1,\n",
       "  'rows': 1,\n",
       "  'rowsFiltered': 1,\n",
       "  'rowsTotal': 1}}"
      ]
     },
     "execution_count": 8,
     "metadata": {},
     "output_type": "execute_result"
    }
   ],
   "source": [
    "countData"
   ]
  },
  {
   "cell_type": "code",
   "execution_count": 14,
   "metadata": {},
   "outputs": [],
   "source": [
    "#build basic request. Will loop over stars, build dataframe\n",
    "# I think this will negate having to do name lookups\n",
    "requestTic = {\"service\":\"Mast.Catalogs.Filtered.Tic\",\n",
    "              \"format\":\"json\",\n",
    "              \"params\":{\n",
    "                  \"columns\":\"c.*\", #Column name to get\n",
    "                  \"filters\":[\n",
    "                       {\"paramName\":\"ID\",\n",
    "                         \"values\":[\"101417386\"]}]\n",
    "                    }\n",
    "}\n",
    "\n",
    "headers,outString = mastQuery(requestTic)\n",
    "outData = json.loads(outString)"
   ]
  },
  {
   "cell_type": "code",
   "execution_count": 15,
   "metadata": {},
   "outputs": [
    {
     "data": {
      "text/plain": [
       "'{\"status\" : \"COMPLETE\",\"msg\" : \"\",\"data\":[{\"ID\":101417386,\"version\":\"20190415\",\"HIP\":48683,\"TYC\":\"6053-00571-1\",\"UCAC\":\"352-057605\",\"TWOMASS\":\"09554355-1940374\",\"SDSS\":null,\"ALLWISE\":\"J095543.51-194037.5\",\"GAIA\":\"5670584955144424576\",\"APASS\":\"8443510\",\"KIC\":null,\"objType\":\"STAR\",\"typeSrc\":\"tmgaia2\",\"ra\":148.931441200614,\"dec\":-19.6770836403199,\"POSflag\":\"tmgaia2\",\"pmRA\":-39.3382,\"e_pmRA\":0.0842625,\"pmDEC\":-0.143184,\"e_pmDEC\":0.0761736,\"PMflag\":\"gaia2\",\"plx\":6.64574,\"e_plx\":0.0477364,\"PARflag\":\"gaia2\",\"gallong\":255.919943894118,\"gallat\":26.7444374993295,\"eclong\":158.858193177767,\"eclat\":-30.1472658638008,\"Bmag\":7.539,\"e_Bmag\":0.026,\"Vmag\":7.43,\"e_Vmag\":0.03,\"umag\":null,\"e_umag\":null,\"gmag\":null,\"e_gmag\":null,\"rmag\":null,\"e_rmag\":null,\"imag\":null,\"e_imag\":null,\"zmag\":null,\"e_zmag\":null,\"Jmag\":7.244,\"e_Jmag\":0.032,\"Hmag\":7.213,\"e_Hmag\":0.046,\"Kmag\":7.188,\"e_Kmag\":0.027,\"TWOMflag\":\"AAA-111-111-000-0-0\",\"prox\":null,\"w1mag\":7.065,\"e_w1mag\":0.038,\"w2mag\":7.177,\"e_w2mag\":0.02,\"w3mag\":7.197,\"e_w3mag\":0.017,\"w4mag\":7.079,\"e_w4mag\":0.116,\"GAIAmag\":7.41051,\"e_GAIAmag\":0.0005,\"Tmag\":7.35931,\"e_Tmag\":0.0077,\"TESSflag\":\"rered\",\"SPFlag\":\"gaia2\",\"Teff\":8656,\"e_Teff\":136.757,\"logg\":4.16047,\"e_logg\":0.0699062,\"MH\":null,\"e_MH\":null,\"rad\":2.02595,\"e_rad\":0.0613518,\"mass\":2.166,\"e_mass\":0.319488,\"rho\":0.260479,\"e_rho\":0.0460122,\"lumclass\":\"DWARF\",\"lum\":20.7596741,\"e_lum\":0.986069,\"d\":149.832,\"e_d\":1.0795,\"ebv\":0.00791853,\"e_ebv\":0.003875645,\"numcont\":85,\"contratio\":0.0007712474,\"disposition\":null,\"duplicate_id\":null,\"priority\":0.00230904529,\"eneg_EBV\":0.00282106,\"epos_EBV\":0.00493023,\"EBVflag\":\"panstarrs\",\"eneg_Mass\":0.212969,\"epos_Mass\":0.426007,\"eneg_Rad\":0.0698628,\"epos_Rad\":0.0528407,\"eneg_rho\":0.0367883,\"epos_rho\":0.0552362,\"eneg_logg\":0.0621047,\"epos_logg\":0.0777076,\"eneg_lum\":1.08906,\"epos_lum\":0.883078,\"eneg_dist\":1.072,\"epos_dist\":1.087,\"distflag\":\"bj2018\",\"eneg_Teff\":118.541,\"epos_Teff\":154.973,\"TeffFlag\":\"dered\",\"gaiabp\":7.48502,\"e_gaiabp\":0.003861,\"gaiarp\":7.34881,\"e_gaiarp\":0.006731,\"gaiaqflag\":1,\"starchareFlag\":null,\"VmagFlag\":\"hipvmag\",\"BmagFlag\":\"tycho2b3\",\"splists\":null,\"e_RA\":1.3261871601796,\"e_Dec\":1.18132245349337,\"RA_orig\":148.931261323963,\"Dec_orig\":-19.6770842568961,\"e_RA_orig\":0.0406640085809132,\"e_Dec_orig\":0.0386260782757511,\"raddflag\":1,\"wdflag\":0,\"objID\":696045152}],\"fields\":[{\"name\":\"ID\",\"type\":\"string\"},{\"name\":\"version\",\"type\":\"string\"},{\"name\":\"HIP\",\"type\":\"int\"},{\"name\":\"TYC\",\"type\":\"string\"},{\"name\":\"UCAC\",\"type\":\"string\"},{\"name\":\"TWOMASS\",\"type\":\"string\"},{\"name\":\"SDSS\",\"type\":\"string\"},{\"name\":\"ALLWISE\",\"type\":\"string\"},{\"name\":\"GAIA\",\"type\":\"string\"},{\"name\":\"APASS\",\"type\":\"string\"},{\"name\":\"KIC\",\"type\":\"int\"},{\"name\":\"objType\",\"type\":\"string\"},{\"name\":\"typeSrc\",\"type\":\"string\"},{\"name\":\"ra\",\"type\":\"float\"},{\"name\":\"dec\",\"type\":\"float\"},{\"name\":\"POSflag\",\"type\":\"string\"},{\"name\":\"pmRA\",\"type\":\"float\"},{\"name\":\"e_pmRA\",\"type\":\"float\"},{\"name\":\"pmDEC\",\"type\":\"float\"},{\"name\":\"e_pmDEC\",\"type\":\"float\"},{\"name\":\"PMflag\",\"type\":\"string\"},{\"name\":\"plx\",\"type\":\"float\"},{\"name\":\"e_plx\",\"type\":\"float\"},{\"name\":\"PARflag\",\"type\":\"string\"},{\"name\":\"gallong\",\"type\":\"float\"},{\"name\":\"gallat\",\"type\":\"float\"},{\"name\":\"eclong\",\"type\":\"float\"},{\"name\":\"eclat\",\"type\":\"float\"},{\"name\":\"Bmag\",\"type\":\"float\"},{\"name\":\"e_Bmag\",\"type\":\"float\"},{\"name\":\"Vmag\",\"type\":\"float\"},{\"name\":\"e_Vmag\",\"type\":\"float\"},{\"name\":\"umag\",\"type\":\"float\"},{\"name\":\"e_umag\",\"type\":\"float\"},{\"name\":\"gmag\",\"type\":\"float\"},{\"name\":\"e_gmag\",\"type\":\"float\"},{\"name\":\"rmag\",\"type\":\"float\"},{\"name\":\"e_rmag\",\"type\":\"float\"},{\"name\":\"imag\",\"type\":\"float\"},{\"name\":\"e_imag\",\"type\":\"float\"},{\"name\":\"zmag\",\"type\":\"float\"},{\"name\":\"e_zmag\",\"type\":\"float\"},{\"name\":\"Jmag\",\"type\":\"float\"},{\"name\":\"e_Jmag\",\"type\":\"float\"},{\"name\":\"Hmag\",\"type\":\"float\"},{\"name\":\"e_Hmag\",\"type\":\"float\"},{\"name\":\"Kmag\",\"type\":\"float\"},{\"name\":\"e_Kmag\",\"type\":\"float\"},{\"name\":\"TWOMflag\",\"type\":\"string\"},{\"name\":\"prox\",\"type\":\"float\"},{\"name\":\"w1mag\",\"type\":\"float\"},{\"name\":\"e_w1mag\",\"type\":\"float\"},{\"name\":\"w2mag\",\"type\":\"float\"},{\"name\":\"e_w2mag\",\"type\":\"float\"},{\"name\":\"w3mag\",\"type\":\"float\"},{\"name\":\"e_w3mag\",\"type\":\"float\"},{\"name\":\"w4mag\",\"type\":\"float\"},{\"name\":\"e_w4mag\",\"type\":\"float\"},{\"name\":\"GAIAmag\",\"type\":\"float\"},{\"name\":\"e_GAIAmag\",\"type\":\"float\"},{\"name\":\"Tmag\",\"type\":\"float\"},{\"name\":\"e_Tmag\",\"type\":\"float\"},{\"name\":\"TESSflag\",\"type\":\"string\"},{\"name\":\"SPFlag\",\"type\":\"string\"},{\"name\":\"Teff\",\"type\":\"float\"},{\"name\":\"e_Teff\",\"type\":\"float\"},{\"name\":\"logg\",\"type\":\"float\"},{\"name\":\"e_logg\",\"type\":\"float\"},{\"name\":\"MH\",\"type\":\"float\"},{\"name\":\"e_MH\",\"type\":\"float\"},{\"name\":\"rad\",\"type\":\"float\"},{\"name\":\"e_rad\",\"type\":\"float\"},{\"name\":\"mass\",\"type\":\"float\"},{\"name\":\"e_mass\",\"type\":\"float\"},{\"name\":\"rho\",\"type\":\"float\"},{\"name\":\"e_rho\",\"type\":\"float\"},{\"name\":\"lumclass\",\"type\":\"string\"},{\"name\":\"lum\",\"type\":\"float\"},{\"name\":\"e_lum\",\"type\":\"float\"},{\"name\":\"d\",\"type\":\"float\"},{\"name\":\"e_d\",\"type\":\"float\"},{\"name\":\"ebv\",\"type\":\"float\"},{\"name\":\"e_ebv\",\"type\":\"float\"},{\"name\":\"numcont\",\"type\":\"int\"},{\"name\":\"contratio\",\"type\":\"float\"},{\"name\":\"disposition\",\"type\":\"string\"},{\"name\":\"duplicate_id\",\"type\":\"string\"},{\"name\":\"priority\",\"type\":\"float\"},{\"name\":\"eneg_EBV\",\"type\":\"float\"},{\"name\":\"epos_EBV\",\"type\":\"float\"},{\"name\":\"EBVflag\",\"type\":\"string\"},{\"name\":\"eneg_Mass\",\"type\":\"float\"},{\"name\":\"epos_Mass\",\"type\":\"float\"},{\"name\":\"eneg_Rad\",\"type\":\"float\"},{\"name\":\"epos_Rad\",\"type\":\"float\"},{\"name\":\"eneg_rho\",\"type\":\"float\"},{\"name\":\"epos_rho\",\"type\":\"float\"},{\"name\":\"eneg_logg\",\"type\":\"float\"},{\"name\":\"epos_logg\",\"type\":\"float\"},{\"name\":\"eneg_lum\",\"type\":\"float\"},{\"name\":\"epos_lum\",\"type\":\"float\"},{\"name\":\"eneg_dist\",\"type\":\"float\"},{\"name\":\"epos_dist\",\"type\":\"float\"},{\"name\":\"distflag\",\"type\":\"string\"},{\"name\":\"eneg_Teff\",\"type\":\"float\"},{\"name\":\"epos_Teff\",\"type\":\"float\"},{\"name\":\"TeffFlag\",\"type\":\"string\"},{\"name\":\"gaiabp\",\"type\":\"float\"},{\"name\":\"e_gaiabp\",\"type\":\"float\"},{\"name\":\"gaiarp\",\"type\":\"float\"},{\"name\":\"e_gaiarp\",\"type\":\"float\"},{\"name\":\"gaiaqflag\",\"type\":\"int\"},{\"name\":\"starchareFlag\",\"type\":\"string\"},{\"name\":\"VmagFlag\",\"type\":\"string\"},{\"name\":\"BmagFlag\",\"type\":\"string\"},{\"name\":\"splists\",\"type\":\"string\"},{\"name\":\"e_RA\",\"type\":\"float\"},{\"name\":\"e_Dec\",\"type\":\"float\"},{\"name\":\"RA_orig\",\"type\":\"float\"},{\"name\":\"Dec_orig\",\"type\":\"float\"},{\"name\":\"e_RA_orig\",\"type\":\"float\"},{\"name\":\"e_Dec_orig\",\"type\":\"float\"},{\"name\":\"raddflag\",\"type\":\"int\"},{\"name\":\"wdflag\",\"type\":\"int\"},{\"name\":\"objID\",\"type\":\"string\"}],\"paging\":{\"page\":1,\"pageSize\":1,\"pagesFiltered\":1,\"rows\":1,\"rowsFiltered\":1,\"rowsTotal\":1}}'"
      ]
     },
     "execution_count": 15,
     "metadata": {},
     "output_type": "execute_result"
    }
   ],
   "source": [
    "#Test\n",
    "\n",
    "outString"
   ]
  },
  {
   "cell_type": "code",
   "execution_count": null,
   "metadata": {},
   "outputs": [],
   "source": []
  },
  {
   "cell_type": "code",
   "execution_count": null,
   "metadata": {},
   "outputs": [],
   "source": []
  }
 ],
 "metadata": {
  "kernelspec": {
   "display_name": "Python 3",
   "language": "python",
   "name": "python3"
  },
  "language_info": {
   "codemirror_mode": {
    "name": "ipython",
    "version": 3
   },
   "file_extension": ".py",
   "mimetype": "text/x-python",
   "name": "python",
   "nbconvert_exporter": "python",
   "pygments_lexer": "ipython3",
   "version": "3.7.3"
  }
 },
 "nbformat": 4,
 "nbformat_minor": 2
}
