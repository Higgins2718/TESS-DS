{
 "cells": [
  {
   "cell_type": "code",
   "execution_count": 7,
   "metadata": {},
   "outputs": [],
   "source": [
    "import numpy as np\n",
    "import requests\n",
    "import matplotlib.pyplot as plt\n",
    "import pandas as pd\n",
    "from IPython.display import display, HTML\n",
    "from astroquery.mast import Mast"
   ]
  },
  {
   "cell_type": "code",
   "execution_count": null,
   "metadata": {},
   "outputs": [],
   "source": [
    "pd.options."
   ]
  },
  {
   "cell_type": "code",
   "execution_count": 2,
   "metadata": {},
   "outputs": [],
   "source": [
    "planeturl = \"https://exo.mast.stsci.edu/api/v0.1/exoplanets/\"\n",
    "dvurl = \"https://exo.mast.stsci.edu/api/v0.1/dvdata/tess/\"\n",
    "header={}"
   ]
  },
  {
   "cell_type": "code",
   "execution_count": 5,
   "metadata": {},
   "outputs": [
    {
     "data": {
      "text/plain": [
       "[]"
      ]
     },
     "execution_count": 5,
     "metadata": {},
     "output_type": "execute_result"
    }
   ],
   "source": [
    "ticid = 388840069\n",
    "\n",
    "url = dvurl + str(ticid) + '/tces/'\n",
    "#myparams = {\"tce\" : tce}\n",
    "\n",
    "r = requests.get(url = url, headers = header)\n",
    "sectorInfo = r.json()\n",
    "\n",
    "sectors = [x[:11] for x in sectorInfo[\"TCE\"] if tce in x]\n",
    "sectors"
   ]
  },
  {
   "cell_type": "code",
   "execution_count": 6,
   "metadata": {},
   "outputs": [
    {
     "data": {
      "text/plain": [
       "{'TCE': []}"
      ]
     },
     "execution_count": 6,
     "metadata": {},
     "output_type": "execute_result"
    }
   ],
   "source": []
  },
  {
   "cell_type": "code",
   "execution_count": 16,
   "metadata": {},
   "outputs": [
    {
     "ename": "KeyError",
     "evalue": "\"Missing required key(s) 'data' and/or 'fields.'\"",
     "output_type": "error",
     "traceback": [
      "\u001b[0;31m---------------------------------------------------------------------------\u001b[0m",
      "\u001b[0;31mKeyError\u001b[0m                                  Traceback (most recent call last)",
      "\u001b[0;32m<ipython-input-16-8e4f494cb9a6>\u001b[0m in \u001b[0;36m<module>\u001b[0;34m\u001b[0m\n\u001b[1;32m      6\u001b[0m \u001b[0mfields\u001b[0m \u001b[0;34m=\u001b[0m \u001b[0;34m[\u001b[0m\u001b[0;34m'GAIA'\u001b[0m\u001b[0;34m,\u001b[0m \u001b[0;34m'TWOMASS'\u001b[0m\u001b[0;34m]\u001b[0m\u001b[0;34m\u001b[0m\u001b[0;34m\u001b[0m\u001b[0m\n\u001b[1;32m      7\u001b[0m \u001b[0;34m\u001b[0m\u001b[0m\n\u001b[0;32m----> 8\u001b[0;31m \u001b[0mresponse\u001b[0m \u001b[0;34m=\u001b[0m \u001b[0mMast\u001b[0m\u001b[0;34m.\u001b[0m\u001b[0mservice_request\u001b[0m\u001b[0;34m(\u001b[0m\u001b[0mservice\u001b[0m\u001b[0;34m,\u001b[0m\u001b[0mparams\u001b[0m\u001b[0;34m,\u001b[0m\u001b[0mfields\u001b[0m\u001b[0;34m=\u001b[0m\u001b[0mfields\u001b[0m\u001b[0;34m)\u001b[0m\u001b[0;34m\u001b[0m\u001b[0;34m\u001b[0m\u001b[0m\n\u001b[0m\u001b[1;32m      9\u001b[0m \u001b[0mresult\u001b[0m \u001b[0;34m=\u001b[0m \u001b[0mresponse\u001b[0m\u001b[0;34m[\u001b[0m\u001b[0;36m0\u001b[0m\u001b[0;34m]\u001b[0m\u001b[0;34m.\u001b[0m\u001b[0mjson\u001b[0m\u001b[0;34m(\u001b[0m\u001b[0;34m)\u001b[0m\u001b[0;34m\u001b[0m\u001b[0;34m\u001b[0m\u001b[0m\n\u001b[1;32m     10\u001b[0m \u001b[0mprint\u001b[0m\u001b[0;34m(\u001b[0m\u001b[0mresult\u001b[0m\u001b[0;34m)\u001b[0m\u001b[0;34m\u001b[0m\u001b[0;34m\u001b[0m\u001b[0m\n",
      "\u001b[0;32m~/anaconda3/lib/python3.7/site-packages/astroquery/utils/class_or_instance.py\u001b[0m in \u001b[0;36mf\u001b[0;34m(*args, **kwds)\u001b[0m\n\u001b[1;32m     23\u001b[0m         \u001b[0;32mdef\u001b[0m \u001b[0mf\u001b[0m\u001b[0;34m(\u001b[0m\u001b[0;34m*\u001b[0m\u001b[0margs\u001b[0m\u001b[0;34m,\u001b[0m \u001b[0;34m**\u001b[0m\u001b[0mkwds\u001b[0m\u001b[0;34m)\u001b[0m\u001b[0;34m:\u001b[0m\u001b[0;34m\u001b[0m\u001b[0;34m\u001b[0m\u001b[0m\n\u001b[1;32m     24\u001b[0m             \u001b[0;32mif\u001b[0m \u001b[0mobj\u001b[0m \u001b[0;32mis\u001b[0m \u001b[0;32mnot\u001b[0m \u001b[0;32mNone\u001b[0m\u001b[0;34m:\u001b[0m\u001b[0;34m\u001b[0m\u001b[0;34m\u001b[0m\u001b[0m\n\u001b[0;32m---> 25\u001b[0;31m                 \u001b[0;32mreturn\u001b[0m \u001b[0mself\u001b[0m\u001b[0;34m.\u001b[0m\u001b[0mfn\u001b[0m\u001b[0;34m(\u001b[0m\u001b[0mobj\u001b[0m\u001b[0;34m,\u001b[0m \u001b[0;34m*\u001b[0m\u001b[0margs\u001b[0m\u001b[0;34m,\u001b[0m \u001b[0;34m**\u001b[0m\u001b[0mkwds\u001b[0m\u001b[0;34m)\u001b[0m\u001b[0;34m\u001b[0m\u001b[0;34m\u001b[0m\u001b[0m\n\u001b[0m\u001b[1;32m     26\u001b[0m             \u001b[0;32melse\u001b[0m\u001b[0;34m:\u001b[0m\u001b[0;34m\u001b[0m\u001b[0;34m\u001b[0m\u001b[0m\n\u001b[1;32m     27\u001b[0m                 \u001b[0;32mreturn\u001b[0m \u001b[0mself\u001b[0m\u001b[0;34m.\u001b[0m\u001b[0mfn\u001b[0m\u001b[0;34m(\u001b[0m\u001b[0mcls\u001b[0m\u001b[0;34m,\u001b[0m \u001b[0;34m*\u001b[0m\u001b[0margs\u001b[0m\u001b[0;34m,\u001b[0m \u001b[0;34m**\u001b[0m\u001b[0mkwds\u001b[0m\u001b[0;34m)\u001b[0m\u001b[0;34m\u001b[0m\u001b[0;34m\u001b[0m\u001b[0m\n",
      "\u001b[0;32m~/anaconda3/lib/python3.7/site-packages/astroquery/utils/process_asyncs.py\u001b[0m in \u001b[0;36mnewmethod\u001b[0;34m(self, *args, **kwargs)\u001b[0m\n\u001b[1;32m     27\u001b[0m             \u001b[0;32mif\u001b[0m \u001b[0mkwargs\u001b[0m\u001b[0;34m.\u001b[0m\u001b[0mget\u001b[0m\u001b[0;34m(\u001b[0m\u001b[0;34m'get_query_payload'\u001b[0m\u001b[0;34m)\u001b[0m \u001b[0;32mor\u001b[0m \u001b[0mkwargs\u001b[0m\u001b[0;34m.\u001b[0m\u001b[0mget\u001b[0m\u001b[0;34m(\u001b[0m\u001b[0;34m'field_help'\u001b[0m\u001b[0;34m)\u001b[0m\u001b[0;34m:\u001b[0m\u001b[0;34m\u001b[0m\u001b[0;34m\u001b[0m\u001b[0m\n\u001b[1;32m     28\u001b[0m                 \u001b[0;32mreturn\u001b[0m \u001b[0mresponse\u001b[0m\u001b[0;34m\u001b[0m\u001b[0;34m\u001b[0m\u001b[0m\n\u001b[0;32m---> 29\u001b[0;31m             \u001b[0mresult\u001b[0m \u001b[0;34m=\u001b[0m \u001b[0mself\u001b[0m\u001b[0;34m.\u001b[0m\u001b[0m_parse_result\u001b[0m\u001b[0;34m(\u001b[0m\u001b[0mresponse\u001b[0m\u001b[0;34m,\u001b[0m \u001b[0mverbose\u001b[0m\u001b[0;34m=\u001b[0m\u001b[0mverbose\u001b[0m\u001b[0;34m)\u001b[0m\u001b[0;34m\u001b[0m\u001b[0;34m\u001b[0m\u001b[0m\n\u001b[0m\u001b[1;32m     30\u001b[0m             \u001b[0mself\u001b[0m\u001b[0;34m.\u001b[0m\u001b[0mtable\u001b[0m \u001b[0;34m=\u001b[0m \u001b[0mresult\u001b[0m\u001b[0;34m\u001b[0m\u001b[0;34m\u001b[0m\u001b[0m\n\u001b[1;32m     31\u001b[0m             \u001b[0;32mreturn\u001b[0m \u001b[0mresult\u001b[0m\u001b[0;34m\u001b[0m\u001b[0;34m\u001b[0m\u001b[0m\n",
      "\u001b[0;32m~/anaconda3/lib/python3.7/site-packages/astroquery/mast/core.py\u001b[0m in \u001b[0;36m_parse_result\u001b[0;34m(self, responses, verbose)\u001b[0m\n\u001b[1;32m    547\u001b[0m                 \u001b[0;32mraise\u001b[0m \u001b[0mRemoteServiceError\u001b[0m\u001b[0;34m(\u001b[0m\u001b[0mresult\u001b[0m\u001b[0;34m.\u001b[0m\u001b[0mget\u001b[0m\u001b[0;34m(\u001b[0m\u001b[0;34m'msg'\u001b[0m\u001b[0;34m,\u001b[0m \u001b[0;34m\"There was an error with your request.\"\u001b[0m\u001b[0;34m)\u001b[0m\u001b[0;34m)\u001b[0m\u001b[0;34m\u001b[0m\u001b[0;34m\u001b[0m\u001b[0m\n\u001b[1;32m    548\u001b[0m \u001b[0;34m\u001b[0m\u001b[0m\n\u001b[0;32m--> 549\u001b[0;31m             \u001b[0mresTable\u001b[0m \u001b[0;34m=\u001b[0m \u001b[0m_mashup_json_to_table\u001b[0m\u001b[0;34m(\u001b[0m\u001b[0mresult\u001b[0m\u001b[0;34m,\u001b[0m \u001b[0mcolConfig\u001b[0m\u001b[0;34m)\u001b[0m\u001b[0;34m\u001b[0m\u001b[0;34m\u001b[0m\u001b[0m\n\u001b[0m\u001b[1;32m    550\u001b[0m             \u001b[0mresultList\u001b[0m\u001b[0;34m.\u001b[0m\u001b[0mappend\u001b[0m\u001b[0;34m(\u001b[0m\u001b[0mresTable\u001b[0m\u001b[0;34m)\u001b[0m\u001b[0;34m\u001b[0m\u001b[0;34m\u001b[0m\u001b[0m\n\u001b[1;32m    551\u001b[0m \u001b[0;34m\u001b[0m\u001b[0m\n",
      "\u001b[0;32m~/anaconda3/lib/python3.7/site-packages/astroquery/mast/core.py\u001b[0m in \u001b[0;36m_mashup_json_to_table\u001b[0;34m(json_obj, col_config)\u001b[0m\n\u001b[1;32m     90\u001b[0m \u001b[0;34m\u001b[0m\u001b[0m\n\u001b[1;32m     91\u001b[0m     \u001b[0;32mif\u001b[0m \u001b[0;32mnot\u001b[0m \u001b[0mall\u001b[0m\u001b[0;34m(\u001b[0m\u001b[0mx\u001b[0m \u001b[0;32min\u001b[0m \u001b[0mjson_obj\u001b[0m\u001b[0;34m.\u001b[0m\u001b[0mkeys\u001b[0m\u001b[0;34m(\u001b[0m\u001b[0;34m)\u001b[0m \u001b[0;32mfor\u001b[0m \u001b[0mx\u001b[0m \u001b[0;32min\u001b[0m \u001b[0;34m[\u001b[0m\u001b[0;34m'fields'\u001b[0m\u001b[0;34m,\u001b[0m \u001b[0;34m'data'\u001b[0m\u001b[0;34m]\u001b[0m\u001b[0;34m)\u001b[0m\u001b[0;34m:\u001b[0m\u001b[0;34m\u001b[0m\u001b[0;34m\u001b[0m\u001b[0m\n\u001b[0;32m---> 92\u001b[0;31m         \u001b[0;32mraise\u001b[0m \u001b[0mKeyError\u001b[0m\u001b[0;34m(\u001b[0m\u001b[0;34m\"Missing required key(s) 'data' and/or 'fields.'\"\u001b[0m\u001b[0;34m)\u001b[0m\u001b[0;34m\u001b[0m\u001b[0;34m\u001b[0m\u001b[0m\n\u001b[0m\u001b[1;32m     93\u001b[0m \u001b[0;34m\u001b[0m\u001b[0m\n\u001b[1;32m     94\u001b[0m     \u001b[0;32mfor\u001b[0m \u001b[0mcol\u001b[0m\u001b[0;34m,\u001b[0m \u001b[0matype\u001b[0m \u001b[0;32min\u001b[0m \u001b[0;34m[\u001b[0m\u001b[0;34m(\u001b[0m\u001b[0mx\u001b[0m\u001b[0;34m[\u001b[0m\u001b[0;34m'name'\u001b[0m\u001b[0;34m]\u001b[0m\u001b[0;34m,\u001b[0m \u001b[0mx\u001b[0m\u001b[0;34m[\u001b[0m\u001b[0;34m'type'\u001b[0m\u001b[0;34m]\u001b[0m\u001b[0;34m)\u001b[0m \u001b[0;32mfor\u001b[0m \u001b[0mx\u001b[0m \u001b[0;32min\u001b[0m \u001b[0mjson_obj\u001b[0m\u001b[0;34m[\u001b[0m\u001b[0;34m'fields'\u001b[0m\u001b[0;34m]\u001b[0m\u001b[0;34m]\u001b[0m\u001b[0;34m:\u001b[0m\u001b[0;34m\u001b[0m\u001b[0;34m\u001b[0m\u001b[0m\n",
      "\u001b[0;31mKeyError\u001b[0m: \"Missing required key(s) 'data' and/or 'fields.'\""
     ]
    }
   ],
   "source": [
    "ctl_stinfo = []\n",
    "\n",
    "service = 'Mast.Name.Lookup'\n",
    "params ={'input':str(ticid),\n",
    "         'format':'json'}\n",
    "fields = ['GAIA', 'TWOMASS']\n",
    "\n",
    "response = Mast.service_request(service,params,fields=fields)\n",
    "result = response[0].json()\n",
    "print(result)"
   ]
  },
  {
   "cell_type": "code",
   "execution_count": 19,
   "metadata": {},
   "outputs": [],
   "source": [
    "from astropy.io import fits"
   ]
  },
  {
   "cell_type": "code",
   "execution_count": 22,
   "metadata": {},
   "outputs": [],
   "source": [
    "fitsf = \"./data/dv_data/tess2018206190142-s0001-s0001-0000000141865875-00106_dvt.fits\""
   ]
  },
  {
   "cell_type": "code",
   "execution_count": 23,
   "metadata": {},
   "outputs": [
    {
     "name": "stdout",
     "output_type": "stream",
     "text": [
      "Filename: ./data/dv_data/tess2018206190142-s0001-s0001-0000000141865875-00106_dvt.fits\n",
      "No.    Name      Ver    Type      Cards   Dimensions   Format\n",
      "  0  PRIMARY       1 PrimaryHDU      43   ()      \n",
      "  1  TCE_1         1 BinTableHDU     92   20076R x 10C   [D, E, J, E, E, E, E, E, E, E]   \n",
      "  2  TCE_2         1 BinTableHDU     92   20076R x 10C   [D, E, J, E, E, E, E, E, E, E]   \n",
      "  3  TCE_3         1 BinTableHDU     92   20076R x 10C   [D, E, J, E, E, E, E, E, E, E]   \n",
      "  4  Statistics    1 BinTableHDU    157   20076R x 38C   [D, E, J, E, E, E, E, J, E, E, E, E, E, E, E, E, E, E, E, E, E, E, E, E, E, E, E, E, E, E, E, E, E, E, E, E, E, E]   \n"
     ]
    }
   ],
   "source": [
    "fits.info(fitsf)"
   ]
  },
  {
   "cell_type": "code",
   "execution_count": 41,
   "metadata": {
    "scrolled": true
   },
   "outputs": [
    {
     "data": {
      "text/plain": [
       "ColDefs(\n",
       "    name = 'TIME'; format = 'D'; unit = 'BJD - 2457000, days'; disp = 'D14.7'\n",
       "    name = 'TIMECORR'; format = 'E'; unit = 'd'; disp = 'E14.7'\n",
       "    name = 'CADENCENO'; format = 'J'; disp = 'I10'\n",
       "    name = 'PDCSAP_FLUX'; format = 'E'; unit = 'e-/s'; disp = 'E14.7'\n",
       "    name = 'PDCSAP_FLUX_ERR'; format = 'E'; unit = 'sigma'; disp = 'E14.7'\n",
       "    name = 'RESIDUAL_LC'; format = 'E'; unit = 'dimensionless'; disp = 'E14.7'\n",
       "    name = 'DEWEIGHTS'; format = 'E'; unit = 'proportion'; disp = 'E14.7'\n",
       "    name = 'QUALITY'; format = 'J'; disp = 'B16.16'\n",
       "    name = 'SES_CORR_0_5'; format = 'E'; disp = 'E14.7'\n",
       "    name = 'SES_CORR_1_0'; format = 'E'; disp = 'E14.7'\n",
       "    name = 'SES_CORR_1_5'; format = 'E'; disp = 'E14.7'\n",
       "    name = 'SES_CORR_2_0'; format = 'E'; disp = 'E14.7'\n",
       "    name = 'SES_CORR_2_5'; format = 'E'; disp = 'E14.7'\n",
       "    name = 'SES_CORR_3_0'; format = 'E'; disp = 'E14.7'\n",
       "    name = 'SES_CORR_3_5'; format = 'E'; disp = 'E14.7'\n",
       "    name = 'SES_CORR_4_5'; format = 'E'; disp = 'E14.7'\n",
       "    name = 'SES_CORR_5_0'; format = 'E'; disp = 'E14.7'\n",
       "    name = 'SES_CORR_6_0'; format = 'E'; disp = 'E14.7'\n",
       "    name = 'SES_CORR_7_5'; format = 'E'; disp = 'E14.7'\n",
       "    name = 'SES_CORR_9_0'; format = 'E'; disp = 'E14.7'\n",
       "    name = 'SES_CORR_10_5'; format = 'E'; disp = 'E14.7'\n",
       "    name = 'SES_CORR_12_5'; format = 'E'; disp = 'E14.7'\n",
       "    name = 'SES_CORR_15_0'; format = 'E'; disp = 'E14.7'\n",
       "    name = 'SES_NORM_0_5'; format = 'E'; disp = 'E14.7'\n",
       "    name = 'SES_NORM_1_0'; format = 'E'; disp = 'E14.7'\n",
       "    name = 'SES_NORM_1_5'; format = 'E'; disp = 'E14.7'\n",
       "    name = 'SES_NORM_2_0'; format = 'E'; disp = 'E14.7'\n",
       "    name = 'SES_NORM_2_5'; format = 'E'; disp = 'E14.7'\n",
       "    name = 'SES_NORM_3_0'; format = 'E'; disp = 'E14.7'\n",
       "    name = 'SES_NORM_3_5'; format = 'E'; disp = 'E14.7'\n",
       "    name = 'SES_NORM_4_5'; format = 'E'; disp = 'E14.7'\n",
       "    name = 'SES_NORM_5_0'; format = 'E'; disp = 'E14.7'\n",
       "    name = 'SES_NORM_6_0'; format = 'E'; disp = 'E14.7'\n",
       "    name = 'SES_NORM_7_5'; format = 'E'; disp = 'E14.7'\n",
       "    name = 'SES_NORM_9_0'; format = 'E'; disp = 'E14.7'\n",
       "    name = 'SES_NORM_10_5'; format = 'E'; disp = 'E14.7'\n",
       "    name = 'SES_NORM_12_5'; format = 'E'; disp = 'E14.7'\n",
       "    name = 'SES_NORM_15_0'; format = 'E'; disp = 'E14.7'\n",
       ")"
      ]
     },
     "execution_count": 41,
     "metadata": {},
     "output_type": "execute_result"
    }
   ],
   "source": [
    "# This doesn't appear to have anything I need.\n",
    "fits.getdata(fitsf, ext=4).columns"
   ]
  },
  {
   "cell_type": "code",
   "execution_count": 31,
   "metadata": {},
   "outputs": [],
   "source": [
    "csv1 = \"./data/tce_stats/tess2018206190142-s0001-s0009_dvr-tcestats.csv\""
   ]
  },
  {
   "cell_type": "code",
   "execution_count": 33,
   "metadata": {},
   "outputs": [],
   "source": [
    "tce_data = pd.read_csv(csv1, skiprows=6)"
   ]
  },
  {
   "cell_type": "code",
   "execution_count": 34,
   "metadata": {},
   "outputs": [
    {
     "data": {
      "text/html": [
       "<div>\n",
       "<style scoped>\n",
       "    .dataframe tbody tr th:only-of-type {\n",
       "        vertical-align: middle;\n",
       "    }\n",
       "\n",
       "    .dataframe tbody tr th {\n",
       "        vertical-align: top;\n",
       "    }\n",
       "\n",
       "    .dataframe thead th {\n",
       "        text-align: right;\n",
       "    }\n",
       "</style>\n",
       "<table border=\"1\" class=\"dataframe\">\n",
       "  <thead>\n",
       "    <tr style=\"text-align: right;\">\n",
       "      <th></th>\n",
       "      <th>tceid</th>\n",
       "      <th>ticid</th>\n",
       "      <th>planetNumber</th>\n",
       "      <th>planetCandidateCount</th>\n",
       "      <th>starTeffKelvin</th>\n",
       "      <th>starLoggCgs</th>\n",
       "      <th>orbitalPeriodDays</th>\n",
       "      <th>orbitalPeriodDays_err</th>\n",
       "      <th>planetRadiusEarthRadii</th>\n",
       "      <th>planetRadiusEarthRadii_err</th>\n",
       "      <th>...</th>\n",
       "      <th>transitIngressTimeHours</th>\n",
       "      <th>minImpactParameter</th>\n",
       "      <th>ws_mes</th>\n",
       "      <th>ws_mesphase</th>\n",
       "      <th>expectedtransitcount</th>\n",
       "      <th>chiSquare2</th>\n",
       "      <th>mes</th>\n",
       "      <th>maxses</th>\n",
       "      <th>equilibriumTempKelvin</th>\n",
       "      <th>InsolationFlux</th>\n",
       "    </tr>\n",
       "  </thead>\n",
       "  <tbody>\n",
       "    <tr>\n",
       "      <th>0</th>\n",
       "      <td>00101363142-01</td>\n",
       "      <td>101363142</td>\n",
       "      <td>1</td>\n",
       "      <td>1</td>\n",
       "      <td>3237.0</td>\n",
       "      <td>4.99853</td>\n",
       "      <td>28.576300</td>\n",
       "      <td>0.002830</td>\n",
       "      <td>3.71201</td>\n",
       "      <td>0.924963</td>\n",
       "      <td>...</td>\n",
       "      <td>0.219546</td>\n",
       "      <td>0.029692</td>\n",
       "      <td>6.08604</td>\n",
       "      <td>10.00830</td>\n",
       "      <td>2</td>\n",
       "      <td>3.67798</td>\n",
       "      <td>14.35090</td>\n",
       "      <td>12.95090</td>\n",
       "      <td>214.556</td>\n",
       "      <td>0.50082</td>\n",
       "    </tr>\n",
       "    <tr>\n",
       "      <th>1</th>\n",
       "      <td>00101364075-01</td>\n",
       "      <td>101364075</td>\n",
       "      <td>1</td>\n",
       "      <td>1</td>\n",
       "      <td>5758.0</td>\n",
       "      <td>4.40457</td>\n",
       "      <td>24.406100</td>\n",
       "      <td>0.016645</td>\n",
       "      <td>8.37513</td>\n",
       "      <td>6.407170</td>\n",
       "      <td>...</td>\n",
       "      <td>7.839750</td>\n",
       "      <td>0.990105</td>\n",
       "      <td>2.75692</td>\n",
       "      <td>3.12639</td>\n",
       "      <td>2</td>\n",
       "      <td>0.72868</td>\n",
       "      <td>8.25559</td>\n",
       "      <td>6.32646</td>\n",
       "      <td>639.778</td>\n",
       "      <td>39.59470</td>\n",
       "    </tr>\n",
       "    <tr>\n",
       "      <th>2</th>\n",
       "      <td>00101365484-01</td>\n",
       "      <td>101365484</td>\n",
       "      <td>1</td>\n",
       "      <td>1</td>\n",
       "      <td>3536.0</td>\n",
       "      <td>4.43800</td>\n",
       "      <td>29.930900</td>\n",
       "      <td>0.004922</td>\n",
       "      <td>1.36497</td>\n",
       "      <td>1.170960</td>\n",
       "      <td>...</td>\n",
       "      <td>0.079310</td>\n",
       "      <td>0.068416</td>\n",
       "      <td>5.20653</td>\n",
       "      <td>-0.64444</td>\n",
       "      <td>2</td>\n",
       "      <td>11.91730</td>\n",
       "      <td>9.87100</td>\n",
       "      <td>7.93837</td>\n",
       "      <td>317.564</td>\n",
       "      <td>2.40352</td>\n",
       "    </tr>\n",
       "    <tr>\n",
       "      <th>3</th>\n",
       "      <td>00101395259-01</td>\n",
       "      <td>101395259</td>\n",
       "      <td>1</td>\n",
       "      <td>1</td>\n",
       "      <td>6422.0</td>\n",
       "      <td>4.20608</td>\n",
       "      <td>7.574500</td>\n",
       "      <td>0.000261</td>\n",
       "      <td>13.54250</td>\n",
       "      <td>3.806770</td>\n",
       "      <td>...</td>\n",
       "      <td>0.905589</td>\n",
       "      <td>0.878173</td>\n",
       "      <td>3.17116</td>\n",
       "      <td>3.72500</td>\n",
       "      <td>6</td>\n",
       "      <td>1.63997</td>\n",
       "      <td>70.55390</td>\n",
       "      <td>34.21930</td>\n",
       "      <td>1204.170</td>\n",
       "      <td>496.90500</td>\n",
       "    </tr>\n",
       "    <tr>\n",
       "      <th>4</th>\n",
       "      <td>00101395750-01</td>\n",
       "      <td>101395750</td>\n",
       "      <td>1</td>\n",
       "      <td>3</td>\n",
       "      <td>8596.0</td>\n",
       "      <td>3.66834</td>\n",
       "      <td>0.247308</td>\n",
       "      <td>0.000015</td>\n",
       "      <td>3.73416</td>\n",
       "      <td>0.875448</td>\n",
       "      <td>...</td>\n",
       "      <td>0.009423</td>\n",
       "      <td>0.699687</td>\n",
       "      <td>10.57780</td>\n",
       "      <td>0.14896</td>\n",
       "      <td>207</td>\n",
       "      <td>96.69240</td>\n",
       "      <td>9.21249</td>\n",
       "      <td>2.80119</td>\n",
       "      <td>0.000</td>\n",
       "      <td>0.00000</td>\n",
       "    </tr>\n",
       "  </tbody>\n",
       "</table>\n",
       "<p>5 rows × 29 columns</p>\n",
       "</div>"
      ],
      "text/plain": [
       "            tceid      ticid  planetNumber  planetCandidateCount  \\\n",
       "0  00101363142-01  101363142             1                     1   \n",
       "1  00101364075-01  101364075             1                     1   \n",
       "2  00101365484-01  101365484             1                     1   \n",
       "3  00101395259-01  101395259             1                     1   \n",
       "4  00101395750-01  101395750             1                     3   \n",
       "\n",
       "   starTeffKelvin  starLoggCgs  orbitalPeriodDays  orbitalPeriodDays_err  \\\n",
       "0          3237.0      4.99853          28.576300               0.002830   \n",
       "1          5758.0      4.40457          24.406100               0.016645   \n",
       "2          3536.0      4.43800          29.930900               0.004922   \n",
       "3          6422.0      4.20608           7.574500               0.000261   \n",
       "4          8596.0      3.66834           0.247308               0.000015   \n",
       "\n",
       "   planetRadiusEarthRadii  planetRadiusEarthRadii_err  ...  \\\n",
       "0                 3.71201                    0.924963  ...   \n",
       "1                 8.37513                    6.407170  ...   \n",
       "2                 1.36497                    1.170960  ...   \n",
       "3                13.54250                    3.806770  ...   \n",
       "4                 3.73416                    0.875448  ...   \n",
       "\n",
       "   transitIngressTimeHours  minImpactParameter    ws_mes  ws_mesphase  \\\n",
       "0                 0.219546            0.029692   6.08604     10.00830   \n",
       "1                 7.839750            0.990105   2.75692      3.12639   \n",
       "2                 0.079310            0.068416   5.20653     -0.64444   \n",
       "3                 0.905589            0.878173   3.17116      3.72500   \n",
       "4                 0.009423            0.699687  10.57780      0.14896   \n",
       "\n",
       "   expectedtransitcount  chiSquare2       mes    maxses  \\\n",
       "0                     2     3.67798  14.35090  12.95090   \n",
       "1                     2     0.72868   8.25559   6.32646   \n",
       "2                     2    11.91730   9.87100   7.93837   \n",
       "3                     6     1.63997  70.55390  34.21930   \n",
       "4                   207    96.69240   9.21249   2.80119   \n",
       "\n",
       "   equilibriumTempKelvin  InsolationFlux  \n",
       "0                214.556         0.50082  \n",
       "1                639.778        39.59470  \n",
       "2                317.564         2.40352  \n",
       "3               1204.170       496.90500  \n",
       "4                  0.000         0.00000  \n",
       "\n",
       "[5 rows x 29 columns]"
      ]
     },
     "execution_count": 34,
     "metadata": {},
     "output_type": "execute_result"
    }
   ],
   "source": [
    "tce_data.head()"
   ]
  },
  {
   "cell_type": "code",
   "execution_count": 35,
   "metadata": {},
   "outputs": [
    {
     "data": {
      "text/plain": [
       "3889"
      ]
     },
     "execution_count": 35,
     "metadata": {},
     "output_type": "execute_result"
    }
   ],
   "source": [
    "len(tce_data)"
   ]
  },
  {
   "cell_type": "code",
   "execution_count": 36,
   "metadata": {},
   "outputs": [],
   "source": [
    "tessids = []\n",
    "for tessid in tce_data['ticid']:\n",
    "    if tessid not in tessids:\n",
    "        tessids.append(tessid)"
   ]
  },
  {
   "cell_type": "code",
   "execution_count": null,
   "metadata": {},
   "outputs": [],
   "source": [
    "# Using the same format as the dummy data generator.\n",
    "# Randoms will be replaced with indexing from various sources.\n",
    "planetids = [pln['plid'][randint(1,4002)] for x in range(rows)]\n",
    "for tessid in tessids:\n",
    "    Stars. = {\n",
    "        \"tessid\": int(tessid),\n",
    "        \"2massid\": ,\n",
    "        \"gaiaid\": randrange(1000000000, 99999999999999),\n",
    "        \"sector\": choice(['s0001-s0002', 's0001-s0003', 's0002-s0003', 's0002-s0004']),\n",
    "        \"magnitude\": randint(8,22),\n",
    "        \"luminosity\": round(uniform(0,10)**.5, 4),\n",
    "        \"star_mass\": randint(1,100),\n",
    "        \"star_radius\": randint(1,60),\n",
    "        \"constellation\" : choice([\"Andromeda\", \"Aquila\", \n",
    "                               \"Canis Minor\",\"Cetus\",\n",
    "                               \"Corvus\",\"Leo Minor\",\n",
    "                               \"Orion\",\"Eridanus\"]),\n",
    "        \"disposition\": choice([\"a\", \"b\",\"c\"]),\n",
    "        \"rightascension\": ((str(randint(10,99)))+\":\"+(str(randint(10,99)))+\":\"+(str(randint(10,99)))+\".\"+(str(randint(100,800)))),\n",
    "        \"declination\": ((str(-randint(10,99)))+\":\"+(str(randint(10,99)))+\":\"+(str(randint(10,99)))+\".\"+(str(randint(100,800)))),\n",
    "        }\n",
    "\n",
    "    \n",
    "for x in range(len(planetids)):\n",
    "    data[\"Planets\"][planetids[x]] = {\n",
    "        \"planetid\": planetids[x],\n",
    "        \"tessid\": int(tessids[x]),\n",
    "        \"orbit_period\": round(uniform(1,1000)**.5, 5),\n",
    "        \"planet_mass\": round(uniform(0,1) * randint(1,10), 4),\n",
    "        \"planet_radius\": round(uniform(0,1) * randint(1,10), 4),\n",
    "    }"
   ]
  },
  {
   "cell_type": "code",
   "execution_count": 37,
   "metadata": {},
   "outputs": [
    {
     "data": {
      "text/plain": [
       "Index(['tceid', 'ticid', 'planetNumber', 'planetCandidateCount',\n",
       "       'starTeffKelvin', 'starLoggCgs', 'orbitalPeriodDays',\n",
       "       'orbitalPeriodDays_err', 'planetRadiusEarthRadii',\n",
       "       'planetRadiusEarthRadii_err', 'ratioPlanetRadiusToStarRadius',\n",
       "       'ratioSemiMajorAxisToStarRadius', 'semiMajorAxisAu',\n",
       "       'starRadiusSolarRadii', 'transitDepthPpm', 'transitDepthPpm_err',\n",
       "       'transitDurationHours', 'transitEpochBtjd', 'transitEpochBtjd_err',\n",
       "       'transitIngressTimeHours', 'minImpactParameter', 'ws_mes',\n",
       "       'ws_mesphase', 'expectedtransitcount', 'chiSquare2', 'mes', 'maxses',\n",
       "       'equilibriumTempKelvin', 'InsolationFlux'],\n",
       "      dtype='object')"
      ]
     },
     "execution_count": 37,
     "metadata": {},
     "output_type": "execute_result"
    }
   ],
   "source": [
    "# I think the missing columns can ge gotten from astroquery relatively easily\n",
    "tce_data.columns"
   ]
  },
  {
   "cell_type": "code",
   "execution_count": null,
   "metadata": {},
   "outputs": [],
   "source": []
  }
 ],
 "metadata": {
  "kernelspec": {
   "display_name": "Python 3",
   "language": "python",
   "name": "python3"
  },
  "language_info": {
   "codemirror_mode": {
    "name": "ipython",
    "version": 3
   },
   "file_extension": ".py",
   "mimetype": "text/x-python",
   "name": "python",
   "nbconvert_exporter": "python",
   "pygments_lexer": "ipython3",
   "version": "3.7.3"
  }
 },
 "nbformat": 4,
 "nbformat_minor": 2
}
